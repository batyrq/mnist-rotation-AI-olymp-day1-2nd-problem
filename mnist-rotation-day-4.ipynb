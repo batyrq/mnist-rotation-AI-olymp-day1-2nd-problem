{
 "cells": [
  {
   "cell_type": "code",
   "execution_count": 1,
   "id": "9d67efd1",
   "metadata": {
    "_cell_guid": "b1076dfc-b9ad-4769-8c92-a6c4dae69d19",
    "_uuid": "8f2839f25d086af736a60e9eeb907d3b93b6e0e5",
    "execution": {
     "iopub.execute_input": "2025-06-26T11:29:10.381287Z",
     "iopub.status.busy": "2025-06-26T11:29:10.381089Z",
     "iopub.status.idle": "2025-06-26T11:29:14.450766Z",
     "shell.execute_reply": "2025-06-26T11:29:14.450188Z"
    },
    "papermill": {
     "duration": 4.075515,
     "end_time": "2025-06-26T11:29:14.452166",
     "exception": false,
     "start_time": "2025-06-26T11:29:10.376651",
     "status": "completed"
    },
    "tags": []
   },
   "outputs": [],
   "source": [
    "import pandas as pd\n",
    "train_df = pd.read_pickle('/kaggle/input/mnist-rotation/train.pkl')\n",
    "test_df = pd.read_pickle('/kaggle/input/mnist-rotation/test.pkl')"
   ]
  },
  {
   "cell_type": "code",
   "execution_count": 2,
   "id": "a657375d",
   "metadata": {
    "execution": {
     "iopub.execute_input": "2025-06-26T11:29:14.459715Z",
     "iopub.status.busy": "2025-06-26T11:29:14.459494Z",
     "iopub.status.idle": "2025-06-26T11:29:14.552074Z",
     "shell.execute_reply": "2025-06-26T11:29:14.551487Z"
    },
    "papermill": {
     "duration": 0.097302,
     "end_time": "2025-06-26T11:29:14.553051",
     "exception": false,
     "start_time": "2025-06-26T11:29:14.455749",
     "status": "completed"
    },
    "tags": []
   },
   "outputs": [
    {
     "data": {
      "text/html": [
       "<div>\n",
       "<style scoped>\n",
       "    .dataframe tbody tr th:only-of-type {\n",
       "        vertical-align: middle;\n",
       "    }\n",
       "\n",
       "    .dataframe tbody tr th {\n",
       "        vertical-align: top;\n",
       "    }\n",
       "\n",
       "    .dataframe thead th {\n",
       "        text-align: right;\n",
       "    }\n",
       "</style>\n",
       "<table border=\"1\" class=\"dataframe\">\n",
       "  <thead>\n",
       "    <tr style=\"text-align: right;\">\n",
       "      <th></th>\n",
       "      <th>image</th>\n",
       "      <th>label</th>\n",
       "      <th>angle</th>\n",
       "    </tr>\n",
       "  </thead>\n",
       "  <tbody>\n",
       "    <tr>\n",
       "      <th>0</th>\n",
       "      <td>[[0, 0, 0, 0, 0, 0, 0, 0, 0, 0, 0, 0, 0, 0, 0,...</td>\n",
       "      <td>6</td>\n",
       "      <td>0</td>\n",
       "    </tr>\n",
       "    <tr>\n",
       "      <th>1</th>\n",
       "      <td>[[0, 0, 0, 0, 0, 0, 0, 0, 0, 0, 0, 0, 0, 0, 0,...</td>\n",
       "      <td>9</td>\n",
       "      <td>0</td>\n",
       "    </tr>\n",
       "    <tr>\n",
       "      <th>2</th>\n",
       "      <td>[[0, 0, 0, 0, 0, 0, 0, 0, 0, 0, 0, 0, 0, 0, 0,...</td>\n",
       "      <td>5</td>\n",
       "      <td>0</td>\n",
       "    </tr>\n",
       "    <tr>\n",
       "      <th>3</th>\n",
       "      <td>[[0, 0, 0, 0, 0, 0, 0, 0, 0, 0, 0, 0, 0, 0, 0,...</td>\n",
       "      <td>7</td>\n",
       "      <td>0</td>\n",
       "    </tr>\n",
       "    <tr>\n",
       "      <th>4</th>\n",
       "      <td>[[0, 0, 0, 0, 0, 0, 0, 0, 0, 0, 0, 0, 0, 0, 0,...</td>\n",
       "      <td>4</td>\n",
       "      <td>0</td>\n",
       "    </tr>\n",
       "    <tr>\n",
       "      <th>...</th>\n",
       "      <td>...</td>\n",
       "      <td>...</td>\n",
       "      <td>...</td>\n",
       "    </tr>\n",
       "    <tr>\n",
       "      <th>19995</th>\n",
       "      <td>[[0, 0, 0, 0, 0, 0, 0, 0, 0, 0, 0, 0, 0, 0, 0,...</td>\n",
       "      <td>3</td>\n",
       "      <td>0</td>\n",
       "    </tr>\n",
       "    <tr>\n",
       "      <th>19996</th>\n",
       "      <td>[[0, 0, 0, 0, 0, 0, 0, 0, 0, 0, 0, 0, 0, 0, 0,...</td>\n",
       "      <td>6</td>\n",
       "      <td>0</td>\n",
       "    </tr>\n",
       "    <tr>\n",
       "      <th>19997</th>\n",
       "      <td>[[0, 0, 0, 0, 0, 0, 0, 0, 0, 0, 0, 0, 0, 0, 0,...</td>\n",
       "      <td>9</td>\n",
       "      <td>0</td>\n",
       "    </tr>\n",
       "    <tr>\n",
       "      <th>19998</th>\n",
       "      <td>[[0, 0, 0, 0, 0, 0, 0, 0, 0, 0, 0, 0, 0, 0, 0,...</td>\n",
       "      <td>0</td>\n",
       "      <td>0</td>\n",
       "    </tr>\n",
       "    <tr>\n",
       "      <th>19999</th>\n",
       "      <td>[[0, 0, 0, 0, 0, 0, 0, 0, 0, 0, 0, 0, 0, 0, 0,...</td>\n",
       "      <td>0</td>\n",
       "      <td>0</td>\n",
       "    </tr>\n",
       "  </tbody>\n",
       "</table>\n",
       "<p>20000 rows × 3 columns</p>\n",
       "</div>"
      ],
      "text/plain": [
       "                                                   image  label  angle\n",
       "0      [[0, 0, 0, 0, 0, 0, 0, 0, 0, 0, 0, 0, 0, 0, 0,...      6      0\n",
       "1      [[0, 0, 0, 0, 0, 0, 0, 0, 0, 0, 0, 0, 0, 0, 0,...      9      0\n",
       "2      [[0, 0, 0, 0, 0, 0, 0, 0, 0, 0, 0, 0, 0, 0, 0,...      5      0\n",
       "3      [[0, 0, 0, 0, 0, 0, 0, 0, 0, 0, 0, 0, 0, 0, 0,...      7      0\n",
       "4      [[0, 0, 0, 0, 0, 0, 0, 0, 0, 0, 0, 0, 0, 0, 0,...      4      0\n",
       "...                                                  ...    ...    ...\n",
       "19995  [[0, 0, 0, 0, 0, 0, 0, 0, 0, 0, 0, 0, 0, 0, 0,...      3      0\n",
       "19996  [[0, 0, 0, 0, 0, 0, 0, 0, 0, 0, 0, 0, 0, 0, 0,...      6      0\n",
       "19997  [[0, 0, 0, 0, 0, 0, 0, 0, 0, 0, 0, 0, 0, 0, 0,...      9      0\n",
       "19998  [[0, 0, 0, 0, 0, 0, 0, 0, 0, 0, 0, 0, 0, 0, 0,...      0      0\n",
       "19999  [[0, 0, 0, 0, 0, 0, 0, 0, 0, 0, 0, 0, 0, 0, 0,...      0      0\n",
       "\n",
       "[20000 rows x 3 columns]"
      ]
     },
     "execution_count": 2,
     "metadata": {},
     "output_type": "execute_result"
    }
   ],
   "source": [
    "train_df"
   ]
  },
  {
   "cell_type": "code",
   "execution_count": 3,
   "id": "64483d18",
   "metadata": {
    "execution": {
     "iopub.execute_input": "2025-06-26T11:29:14.560567Z",
     "iopub.status.busy": "2025-06-26T11:29:14.560027Z",
     "iopub.status.idle": "2025-06-26T11:29:14.632599Z",
     "shell.execute_reply": "2025-06-26T11:29:14.631926Z"
    },
    "papermill": {
     "duration": 0.077233,
     "end_time": "2025-06-26T11:29:14.633633",
     "exception": false,
     "start_time": "2025-06-26T11:29:14.556400",
     "status": "completed"
    },
    "tags": []
   },
   "outputs": [
    {
     "data": {
      "text/html": [
       "<div>\n",
       "<style scoped>\n",
       "    .dataframe tbody tr th:only-of-type {\n",
       "        vertical-align: middle;\n",
       "    }\n",
       "\n",
       "    .dataframe tbody tr th {\n",
       "        vertical-align: top;\n",
       "    }\n",
       "\n",
       "    .dataframe thead th {\n",
       "        text-align: right;\n",
       "    }\n",
       "</style>\n",
       "<table border=\"1\" class=\"dataframe\">\n",
       "  <thead>\n",
       "    <tr style=\"text-align: right;\">\n",
       "      <th></th>\n",
       "      <th>ID</th>\n",
       "      <th>image</th>\n",
       "      <th>label</th>\n",
       "      <th>angle</th>\n",
       "    </tr>\n",
       "  </thead>\n",
       "  <tbody>\n",
       "    <tr>\n",
       "      <th>0</th>\n",
       "      <td>0</td>\n",
       "      <td>[[0, 55, 0, 0, 17, 17, 40, 0, 12, 0, 0, 0, 0, ...</td>\n",
       "      <td>2</td>\n",
       "      <td>0</td>\n",
       "    </tr>\n",
       "    <tr>\n",
       "      <th>1</th>\n",
       "      <td>1</td>\n",
       "      <td>[[124, 255, 0, 0, 79, 44, 51, 0, 183, 5, 0, 78...</td>\n",
       "      <td>2</td>\n",
       "      <td>0</td>\n",
       "    </tr>\n",
       "    <tr>\n",
       "      <th>2</th>\n",
       "      <td>2</td>\n",
       "      <td>[[196, 1, 0, 0, 0, 0, 0, 0, 33, 0, 0, 4, 0, 64...</td>\n",
       "      <td>3</td>\n",
       "      <td>0</td>\n",
       "    </tr>\n",
       "    <tr>\n",
       "      <th>3</th>\n",
       "      <td>3</td>\n",
       "      <td>[[0, 0, 0, 0, 0, 0, 0, 0, 0, 0, 0, 0, 0, 0, 0,...</td>\n",
       "      <td>2</td>\n",
       "      <td>0</td>\n",
       "    </tr>\n",
       "    <tr>\n",
       "      <th>4</th>\n",
       "      <td>4</td>\n",
       "      <td>[[0, 0, 0, 0, 0, 0, 0, 0, 0, 0, 0, 0, 0, 0, 0,...</td>\n",
       "      <td>0</td>\n",
       "      <td>0</td>\n",
       "    </tr>\n",
       "    <tr>\n",
       "      <th>...</th>\n",
       "      <td>...</td>\n",
       "      <td>...</td>\n",
       "      <td>...</td>\n",
       "      <td>...</td>\n",
       "    </tr>\n",
       "    <tr>\n",
       "      <th>149995</th>\n",
       "      <td>149995</td>\n",
       "      <td>[[0, 6, 0, 16, 51, 249, 0, 0, 2, 255, 15, 238,...</td>\n",
       "      <td>3</td>\n",
       "      <td>0</td>\n",
       "    </tr>\n",
       "    <tr>\n",
       "      <th>149996</th>\n",
       "      <td>149996</td>\n",
       "      <td>[[68, 142, 0, 163, 0, 151, 9, 0, 0, 137, 36, 0...</td>\n",
       "      <td>7</td>\n",
       "      <td>0</td>\n",
       "    </tr>\n",
       "    <tr>\n",
       "      <th>149997</th>\n",
       "      <td>149997</td>\n",
       "      <td>[[0, 0, 63, 20, 0, 45, 34, 49, 0, 255, 0, 12, ...</td>\n",
       "      <td>1</td>\n",
       "      <td>0</td>\n",
       "    </tr>\n",
       "    <tr>\n",
       "      <th>149998</th>\n",
       "      <td>149998</td>\n",
       "      <td>[[0, 255, 0, 0, 0, 255, 0, 0, 47, 0, 11, 18, 0...</td>\n",
       "      <td>7</td>\n",
       "      <td>0</td>\n",
       "    </tr>\n",
       "    <tr>\n",
       "      <th>149999</th>\n",
       "      <td>149999</td>\n",
       "      <td>[[0, 0, 0, 5, 218, 20, 44, 250, 47, 0, 213, 0,...</td>\n",
       "      <td>9</td>\n",
       "      <td>0</td>\n",
       "    </tr>\n",
       "  </tbody>\n",
       "</table>\n",
       "<p>150000 rows × 4 columns</p>\n",
       "</div>"
      ],
      "text/plain": [
       "            ID                                              image  label  \\\n",
       "0            0  [[0, 55, 0, 0, 17, 17, 40, 0, 12, 0, 0, 0, 0, ...      2   \n",
       "1            1  [[124, 255, 0, 0, 79, 44, 51, 0, 183, 5, 0, 78...      2   \n",
       "2            2  [[196, 1, 0, 0, 0, 0, 0, 0, 33, 0, 0, 4, 0, 64...      3   \n",
       "3            3  [[0, 0, 0, 0, 0, 0, 0, 0, 0, 0, 0, 0, 0, 0, 0,...      2   \n",
       "4            4  [[0, 0, 0, 0, 0, 0, 0, 0, 0, 0, 0, 0, 0, 0, 0,...      0   \n",
       "...        ...                                                ...    ...   \n",
       "149995  149995  [[0, 6, 0, 16, 51, 249, 0, 0, 2, 255, 15, 238,...      3   \n",
       "149996  149996  [[68, 142, 0, 163, 0, 151, 9, 0, 0, 137, 36, 0...      7   \n",
       "149997  149997  [[0, 0, 63, 20, 0, 45, 34, 49, 0, 255, 0, 12, ...      1   \n",
       "149998  149998  [[0, 255, 0, 0, 0, 255, 0, 0, 47, 0, 11, 18, 0...      7   \n",
       "149999  149999  [[0, 0, 0, 5, 218, 20, 44, 250, 47, 0, 213, 0,...      9   \n",
       "\n",
       "        angle  \n",
       "0           0  \n",
       "1           0  \n",
       "2           0  \n",
       "3           0  \n",
       "4           0  \n",
       "...       ...  \n",
       "149995      0  \n",
       "149996      0  \n",
       "149997      0  \n",
       "149998      0  \n",
       "149999      0  \n",
       "\n",
       "[150000 rows x 4 columns]"
      ]
     },
     "execution_count": 3,
     "metadata": {},
     "output_type": "execute_result"
    }
   ],
   "source": [
    "test_df"
   ]
  },
  {
   "cell_type": "code",
   "execution_count": 4,
   "id": "770ac46c",
   "metadata": {
    "execution": {
     "iopub.execute_input": "2025-06-26T11:29:14.640950Z",
     "iopub.status.busy": "2025-06-26T11:29:14.640754Z",
     "iopub.status.idle": "2025-06-26T11:29:15.085079Z",
     "shell.execute_reply": "2025-06-26T11:29:15.084339Z"
    },
    "papermill": {
     "duration": 0.449408,
     "end_time": "2025-06-26T11:29:15.086373",
     "exception": false,
     "start_time": "2025-06-26T11:29:14.636965",
     "status": "completed"
    },
    "tags": []
   },
   "outputs": [],
   "source": [
    "import matplotlib.pylab as plt\n",
    "import numpy as np\n",
    "from scipy.ndimage import rotate as scipy_rotate\n",
    "\n",
    "\n",
    "def show_image(image, title=None):\n",
    "    plt.imshow(image, cmap=plt.get_cmap('gray'))\n",
    "    if title is not None:\n",
    "        plt.title(title)\n",
    "    plt.show()\n",
    "\n",
    "def rotate(img: np.ndarray, angle: int) -> np.ndarray:\n",
    "    if not (-120 <= angle <= 120):\n",
    "        raise ValueError(\"Angle must be between -120 and 120 degrees.\")\n",
    "    \n",
    "    rotated_img = scipy_rotate(\n",
    "        img,\n",
    "        angle=angle,\n",
    "        reshape=False,      # сохраняем размер 28x28\n",
    "        order=1,            # билинейная интерполяция для аккуратного поворота\n",
    "        mode='constant',    # пиксели вне исходного изображения заполняются константой\n",
    "        cval=0.0            # заполняем черным (0)\n",
    "    )\n",
    "    return rotated_img"
   ]
  },
  {
   "cell_type": "code",
   "execution_count": 5,
   "id": "122b94f5",
   "metadata": {
    "execution": {
     "iopub.execute_input": "2025-06-26T11:29:15.094400Z",
     "iopub.status.busy": "2025-06-26T11:29:15.093946Z",
     "iopub.status.idle": "2025-06-26T11:29:15.104443Z",
     "shell.execute_reply": "2025-06-26T11:29:15.103947Z"
    },
    "papermill": {
     "duration": 0.015474,
     "end_time": "2025-06-26T11:29:15.105411",
     "exception": false,
     "start_time": "2025-06-26T11:29:15.089937",
     "status": "completed"
    },
    "tags": []
   },
   "outputs": [],
   "source": [
    "class NoizeGenerator:\n",
    "    def __init__(\n",
    "        self,\n",
    "        discrete_noise_proba=0.02,\n",
    "        beta_alpha=0.3,\n",
    "        beta_beta=0.3,\n",
    "        gaussian_sigma=0.0,\n",
    "        shift_prob=1.0,\n",
    "        seed=None,\n",
    "    ):\n",
    "        \"\"\"\n",
    "        discrete_noise_proba: вероятность заменить пиксель значением из бета-распределения\n",
    "        beta_alpha, beta_beta: параметры бета-распределения (бимодальность при < 1)\n",
    "        gaussian_sigma: стандартное отклонение для нормального шума\n",
    "        shift_prob: вероятность случайного сдвига изображения на 1 пиксель\n",
    "        \"\"\"\n",
    "        self.discrete_noise_proba = discrete_noise_proba\n",
    "        self.beta_alpha = beta_alpha\n",
    "        self.beta_beta = beta_beta\n",
    "        self.gaussian_sigma = gaussian_sigma\n",
    "        self.shift_prob = shift_prob\n",
    "        self.rng = np.random.default_rng(seed)\n",
    "\n",
    "    def apply_beta_noise(self, img):\n",
    "        mask = self.rng.random(img.shape) < self.discrete_noise_proba\n",
    "        beta_noise = (\n",
    "            self.rng.beta(self.beta_alpha, self.beta_beta, size=img.shape) * 255\n",
    "        )\n",
    "        noisy_img = img.copy()\n",
    "        noisy_img[mask] = beta_noise[mask]\n",
    "        return noisy_img\n",
    "\n",
    "    def apply_gaussian_noise(self, img):\n",
    "        if self.gaussian_sigma > 0:\n",
    "            noise = self.rng.normal(loc=0.0, scale=self.gaussian_sigma, size=img.shape)\n",
    "            img = img + noise\n",
    "            img = np.clip(img, 0, 255)\n",
    "        return img\n",
    "\n",
    "    def apply_random_shift(self, img):\n",
    "        direction = self.rng.choice([\"up\", \"down\", \"left\", \"right\"])\n",
    "        shifted = np.zeros_like(img)\n",
    "\n",
    "        if direction == \"up\":\n",
    "            shifted[:-1, :] = img[1:, :]\n",
    "        elif direction == \"down\":\n",
    "            shifted[1:, :] = img[:-1, :]\n",
    "        elif direction == \"left\":\n",
    "            shifted[:, :-1] = img[:, 1:]\n",
    "        elif direction == \"right\":\n",
    "            shifted[:, 1:] = img[:, :-1]\n",
    "\n",
    "        return shifted\n",
    "\n",
    "    def transform_image(self, image):\n",
    "        tmp_image = image.astype(np.float32)\n",
    "        tmp_image = self.apply_beta_noise(tmp_image)\n",
    "        tmp_image = self.apply_gaussian_noise(tmp_image)\n",
    "\n",
    "        if self.rng.random() < self.shift_prob:\n",
    "            tmp_image = self.apply_random_shift(tmp_image)\n",
    "        return tmp_image.astype(np.uint8)\n",
    "\n",
    "    def transform_dataset(self, X):\n",
    "        n_samples = X.shape[0]\n",
    "        X_aug = np.zeros_like(X)\n",
    "\n",
    "        for i in range(n_samples):\n",
    "            img = self.transform_image(X[i].reshape(28, 28))\n",
    "            X_aug[i] = img.flatten()\n",
    "        return X_aug\n",
    "    \n",
    "\n",
    "noize_gen = NoizeGenerator(\n",
    "    discrete_noise_proba=0.2,\n",
    "    beta_alpha=0.3,\n",
    "    beta_beta=0.3,\n",
    "    gaussian_sigma=40,\n",
    "    shift_prob=1.0,\n",
    "    seed=1,\n",
    ")"
   ]
  },
  {
   "cell_type": "code",
   "execution_count": 6,
   "id": "e111b611",
   "metadata": {
    "execution": {
     "iopub.execute_input": "2025-06-26T11:29:15.112858Z",
     "iopub.status.busy": "2025-06-26T11:29:15.112405Z",
     "iopub.status.idle": "2025-06-26T11:40:01.763638Z",
     "shell.execute_reply": "2025-06-26T11:40:01.762688Z"
    },
    "papermill": {
     "duration": 646.656406,
     "end_time": "2025-06-26T11:40:01.765159",
     "exception": false,
     "start_time": "2025-06-26T11:29:15.108753",
     "status": "completed"
    },
    "tags": []
   },
   "outputs": [
    {
     "name": "stdout",
     "output_type": "stream",
     "text": [
      "0\n",
      "1000\n",
      "2000\n",
      "3000\n",
      "4000\n",
      "5000\n",
      "6000\n",
      "7000\n",
      "8000\n",
      "9000\n",
      "10000\n",
      "11000\n",
      "12000\n",
      "13000\n",
      "14000\n",
      "15000\n",
      "16000\n",
      "17000\n",
      "18000\n",
      "19000\n"
     ]
    }
   ],
   "source": [
    "allowed_angles = np.arange(-120, 121, 30)\n",
    "val = len(train_df)\n",
    "for i in range(val):\n",
    "    if i%1000 == 0:\n",
    "        print(i)\n",
    "    for angle in allowed_angles:\n",
    "        train_df.loc[len(train_df)] = [noize_gen.transform_image(rotate(train_df.loc[i,'image'], angle)),train_df.loc[i,'label'],angle]"
   ]
  },
  {
   "cell_type": "code",
   "execution_count": 7,
   "id": "9bf96fa7",
   "metadata": {
    "execution": {
     "iopub.execute_input": "2025-06-26T11:40:01.775190Z",
     "iopub.status.busy": "2025-06-26T11:40:01.774887Z",
     "iopub.status.idle": "2025-06-26T11:40:06.319315Z",
     "shell.execute_reply": "2025-06-26T11:40:06.318749Z"
    },
    "papermill": {
     "duration": 4.55077,
     "end_time": "2025-06-26T11:40:06.320597",
     "exception": false,
     "start_time": "2025-06-26T11:40:01.769827",
     "status": "completed"
    },
    "tags": []
   },
   "outputs": [],
   "source": [
    "import torch\n",
    "from torch.utils.data import Dataset, DataLoader\n",
    "import torch.optim as optim\n",
    "import torch.nn as nn"
   ]
  },
  {
   "cell_type": "code",
   "execution_count": 8,
   "id": "352f9099",
   "metadata": {
    "execution": {
     "iopub.execute_input": "2025-06-26T11:40:06.330064Z",
     "iopub.status.busy": "2025-06-26T11:40:06.329723Z",
     "iopub.status.idle": "2025-06-26T11:40:06.334798Z",
     "shell.execute_reply": "2025-06-26T11:40:06.334249Z"
    },
    "papermill": {
     "duration": 0.010828,
     "end_time": "2025-06-26T11:40:06.335788",
     "exception": false,
     "start_time": "2025-06-26T11:40:06.324960",
     "status": "completed"
    },
    "tags": []
   },
   "outputs": [],
   "source": [
    "class CustomDataset(Dataset):\n",
    "    def __init__(self,images,labels,angles):\n",
    "        self.images = images\n",
    "        self.labels = labels\n",
    "        self.angles = angles\n",
    "    def __len__(self):\n",
    "        return len(self.images)\n",
    "    def __getitem__(self,idx):\n",
    "        img = self.images[idx]\n",
    "        if isinstance(img, np.ndarray):\n",
    "            img = torch.from_numpy(img).float()  # float32\n",
    "            if img.ndim == 2:\n",
    "                img = img.unsqueeze(0)  # (1, H, W)\n",
    "            elif img.ndim == 3:\n",
    "                img = img.permute(2, 0, 1)\n",
    "        label = torch.tensor(self.labels[idx],dtype = torch.long)\n",
    "        angle = torch.tensor(self.angles[idx], dtype = torch.long)\n",
    "        return img,label,angle"
   ]
  },
  {
   "cell_type": "code",
   "execution_count": 9,
   "id": "ccfc6cb0",
   "metadata": {
    "execution": {
     "iopub.execute_input": "2025-06-26T11:40:06.344662Z",
     "iopub.status.busy": "2025-06-26T11:40:06.344403Z",
     "iopub.status.idle": "2025-06-26T11:40:06.357022Z",
     "shell.execute_reply": "2025-06-26T11:40:06.356565Z"
    },
    "papermill": {
     "duration": 0.018068,
     "end_time": "2025-06-26T11:40:06.358028",
     "exception": false,
     "start_time": "2025-06-26T11:40:06.339960",
     "status": "completed"
    },
    "tags": []
   },
   "outputs": [],
   "source": [
    "angle_list = sorted(train_df['angle'].unique())  # e.g. [-120, -90, ..., 120]\n",
    "angle2class = {angle: idx for idx, angle in enumerate(angle_list)}\n",
    "train_df['angle_class'] = train_df['angle'].map(angle2class)"
   ]
  },
  {
   "cell_type": "code",
   "execution_count": 10,
   "id": "af7e831e",
   "metadata": {
    "execution": {
     "iopub.execute_input": "2025-06-26T11:40:06.366674Z",
     "iopub.status.busy": "2025-06-26T11:40:06.366419Z",
     "iopub.status.idle": "2025-06-26T11:40:06.369829Z",
     "shell.execute_reply": "2025-06-26T11:40:06.369332Z"
    },
    "papermill": {
     "duration": 0.008811,
     "end_time": "2025-06-26T11:40:06.370890",
     "exception": false,
     "start_time": "2025-06-26T11:40:06.362079",
     "status": "completed"
    },
    "tags": []
   },
   "outputs": [],
   "source": [
    "data = CustomDataset(train_df['image'],train_df['label'],train_df['angle_class'])\n",
    "dataloader = DataLoader(data,batch_size = 8, shuffle = True)"
   ]
  },
  {
   "cell_type": "code",
   "execution_count": 11,
   "id": "d33941d8",
   "metadata": {
    "execution": {
     "iopub.execute_input": "2025-06-26T11:40:06.379863Z",
     "iopub.status.busy": "2025-06-26T11:40:06.379662Z",
     "iopub.status.idle": "2025-06-26T11:40:06.385641Z",
     "shell.execute_reply": "2025-06-26T11:40:06.385127Z"
    },
    "papermill": {
     "duration": 0.011553,
     "end_time": "2025-06-26T11:40:06.386571",
     "exception": false,
     "start_time": "2025-06-26T11:40:06.375018",
     "status": "completed"
    },
    "tags": []
   },
   "outputs": [],
   "source": [
    "import torch.nn as nn\n",
    "import torch.nn.functional as F\n",
    "\n",
    "class CNN(nn.Module):\n",
    "    def __init__(self, num_labels=10, num_angles=9):\n",
    "        super(CNN, self).__init__()\n",
    "\n",
    "        self.conv = nn.Sequential(\n",
    "            nn.Conv2d(1, 32, kernel_size=3, padding=1),\n",
    "            nn.BatchNorm2d(32),\n",
    "            nn.ReLU(),\n",
    "            nn.MaxPool2d(2),  # (32, 14, 14)\n",
    "\n",
    "            nn.Conv2d(32, 64, kernel_size=3, padding=1),\n",
    "            nn.BatchNorm2d(64),\n",
    "            nn.ReLU(),\n",
    "            nn.MaxPool2d(2),  # (64, 7, 7)\n",
    "        )\n",
    "\n",
    "        self.flatten = nn.Flatten()\n",
    "        self.image_fc = nn.Sequential(\n",
    "            nn.Linear(64 * 7 * 7, 128),\n",
    "            nn.ReLU(),\n",
    "            nn.Dropout(0.3)\n",
    "        )\n",
    "\n",
    "        self.label_embed = nn.Embedding(num_labels, 32)\n",
    "\n",
    "        self.fc = nn.Sequential(\n",
    "            nn.Linear(128 + 32, 64),\n",
    "            nn.ReLU(),\n",
    "            nn.Dropout(0.3),\n",
    "            nn.Linear(64, num_angles)\n",
    "        )\n",
    "\n",
    "    def forward(self, x_img, x_label):\n",
    "        x = self.conv(x_img)\n",
    "        x = self.flatten(x)\n",
    "        x = self.image_fc(x)\n",
    "\n",
    "        label_embed = self.label_embed(x_label)\n",
    "        x = torch.cat([x, label_embed], dim=1)\n",
    "        x = self.fc(x)\n",
    "        return x\n"
   ]
  },
  {
   "cell_type": "code",
   "execution_count": 12,
   "id": "73cba9c1",
   "metadata": {
    "execution": {
     "iopub.execute_input": "2025-06-26T11:40:06.395101Z",
     "iopub.status.busy": "2025-06-26T11:40:06.394905Z",
     "iopub.status.idle": "2025-06-26T11:55:03.530794Z",
     "shell.execute_reply": "2025-06-26T11:55:03.529936Z"
    },
    "papermill": {
     "duration": 897.145462,
     "end_time": "2025-06-26T11:55:03.535989",
     "exception": false,
     "start_time": "2025-06-26T11:40:06.390527",
     "status": "completed"
    },
    "scrolled": true,
    "tags": []
   },
   "outputs": [
    {
     "name": "stdout",
     "output_type": "stream",
     "text": [
      "Epoch 1, Loss: 0.8736\n",
      "Epoch 2, Loss: 0.5802\n",
      "Epoch 3, Loss: 0.5166\n",
      "Epoch 4, Loss: 0.4886\n",
      "Epoch 5, Loss: 0.4717\n",
      "Epoch 6, Loss: 0.4555\n",
      "Epoch 7, Loss: 0.4448\n",
      "Epoch 8, Loss: 0.4341\n",
      "Epoch 9, Loss: 0.4282\n",
      "Epoch 10, Loss: 0.4220\n"
     ]
    }
   ],
   "source": [
    "device = torch.device(\"cuda\" if torch.cuda.is_available() else \"cpu\")\n",
    "model = CNN(num_labels=10, num_angles=9).to(device)\n",
    "criterion = nn.CrossEntropyLoss()\n",
    "optimizer = torch.optim.Adam(model.parameters(), lr=1e-3)\n",
    "for epoch in range(10):\n",
    "    model.train()\n",
    "    total_loss = 0\n",
    "    for images, labels, angle_classes in dataloader:\n",
    "        images = images.to(device).float()\n",
    "        labels = labels.to(device)\n",
    "        angle_classes = angle_classes.to(device)\n",
    "        optimizer.zero_grad()\n",
    "        outputs = model(images, labels)  # (batch, 12)\n",
    "        loss = criterion(outputs, angle_classes)\n",
    "        loss.backward()\n",
    "        torch.nn.utils.clip_grad_norm_(model.parameters(), max_norm=1.0)\n",
    "        optimizer.step()\n",
    "        total_loss += loss.item()\n",
    "\n",
    "    print(f\"Epoch {epoch+1}, Loss: {total_loss / len(dataloader):.4f}\")"
   ]
  },
  {
   "cell_type": "code",
   "execution_count": 13,
   "id": "67d2562f",
   "metadata": {
    "execution": {
     "iopub.execute_input": "2025-06-26T11:55:03.546599Z",
     "iopub.status.busy": "2025-06-26T11:55:03.545971Z",
     "iopub.status.idle": "2025-06-26T11:55:03.551301Z",
     "shell.execute_reply": "2025-06-26T11:55:03.550613Z"
    },
    "papermill": {
     "duration": 0.0118,
     "end_time": "2025-06-26T11:55:03.552321",
     "exception": false,
     "start_time": "2025-06-26T11:55:03.540521",
     "status": "completed"
    },
    "tags": []
   },
   "outputs": [],
   "source": [
    "class CustomDataset1(Dataset):\n",
    "    def __init__(self,images,labels):\n",
    "        self.images = images\n",
    "        self.labels = labels\n",
    "    def __len__(self):\n",
    "        return len(self.images)\n",
    "    def __getitem__(self,idx):\n",
    "        img = self.images[idx]\n",
    "        if isinstance(img, np.ndarray):\n",
    "            img = torch.from_numpy(img).float()  # float32\n",
    "            if img.ndim == 2:\n",
    "                img = img.unsqueeze(0)  # (1, H, W)\n",
    "            elif img.ndim == 3:\n",
    "                img = img.permute(2, 0, 1)\n",
    "        label = torch.tensor(self.labels[idx],dtype = torch.long)\n",
    "        return img,label"
   ]
  },
  {
   "cell_type": "code",
   "execution_count": 14,
   "id": "17f59d64",
   "metadata": {
    "execution": {
     "iopub.execute_input": "2025-06-26T11:55:03.561797Z",
     "iopub.status.busy": "2025-06-26T11:55:03.561593Z",
     "iopub.status.idle": "2025-06-26T11:55:03.565260Z",
     "shell.execute_reply": "2025-06-26T11:55:03.564733Z"
    },
    "papermill": {
     "duration": 0.009511,
     "end_time": "2025-06-26T11:55:03.566211",
     "exception": false,
     "start_time": "2025-06-26T11:55:03.556700",
     "status": "completed"
    },
    "tags": []
   },
   "outputs": [],
   "source": [
    "data_test = CustomDataset1(test_df['image'],test_df['label'])\n",
    "dataloader_test = DataLoader(data_test,batch_size = 8, shuffle = False)"
   ]
  },
  {
   "cell_type": "code",
   "execution_count": 15,
   "id": "ec20b74e",
   "metadata": {
    "execution": {
     "iopub.execute_input": "2025-06-26T11:55:03.575715Z",
     "iopub.status.busy": "2025-06-26T11:55:03.575536Z",
     "iopub.status.idle": "2025-06-26T11:55:03.580332Z",
     "shell.execute_reply": "2025-06-26T11:55:03.579649Z"
    },
    "papermill": {
     "duration": 0.010692,
     "end_time": "2025-06-26T11:55:03.581342",
     "exception": false,
     "start_time": "2025-06-26T11:55:03.570650",
     "status": "completed"
    },
    "tags": []
   },
   "outputs": [],
   "source": [
    "angle_classes = sorted(train_df['angle'].unique())  # [0, 30, ..., 330]\n",
    "angle_to_idx = {angle: idx for idx, angle in enumerate(angle_classes)}\n",
    "idx_to_angle = {idx: angle for angle, idx in angle_to_idx.items()}"
   ]
  },
  {
   "cell_type": "code",
   "execution_count": 16,
   "id": "913e1199",
   "metadata": {
    "execution": {
     "iopub.execute_input": "2025-06-26T11:55:03.590739Z",
     "iopub.status.busy": "2025-06-26T11:55:03.590538Z",
     "iopub.status.idle": "2025-06-26T11:55:24.332401Z",
     "shell.execute_reply": "2025-06-26T11:55:24.331852Z"
    },
    "papermill": {
     "duration": 20.748088,
     "end_time": "2025-06-26T11:55:24.333754",
     "exception": false,
     "start_time": "2025-06-26T11:55:03.585666",
     "status": "completed"
    },
    "tags": []
   },
   "outputs": [],
   "source": [
    "pred = []\n",
    "model.eval()\n",
    "with torch.no_grad():\n",
    "    for images, labels in dataloader_test:\n",
    "        images = images.to(device).float()\n",
    "        labels = labels.to(device)\n",
    "\n",
    "        logits = model(images, labels)\n",
    "        pred_class = torch.argmax(logits, dim=1)\n",
    "        pred_angles = [idx_to_angle[i.item()] for i in pred_class]\n",
    "        for i in pred_angles:\n",
    "            pred.append(i)"
   ]
  },
  {
   "cell_type": "code",
   "execution_count": 17,
   "id": "8957e4c1",
   "metadata": {
    "execution": {
     "iopub.execute_input": "2025-06-26T11:55:24.344240Z",
     "iopub.status.busy": "2025-06-26T11:55:24.344017Z",
     "iopub.status.idle": "2025-06-26T11:55:24.403720Z",
     "shell.execute_reply": "2025-06-26T11:55:24.403184Z"
    },
    "papermill": {
     "duration": 0.065861,
     "end_time": "2025-06-26T11:55:24.404810",
     "exception": false,
     "start_time": "2025-06-26T11:55:24.338949",
     "status": "completed"
    },
    "tags": []
   },
   "outputs": [],
   "source": [
    "sample_submission = pd.read_csv('/kaggle/input/mnist-rotation/sample_submission.csv')"
   ]
  },
  {
   "cell_type": "code",
   "execution_count": 18,
   "id": "38e0e33d",
   "metadata": {
    "execution": {
     "iopub.execute_input": "2025-06-26T11:55:24.414509Z",
     "iopub.status.busy": "2025-06-26T11:55:24.414275Z",
     "iopub.status.idle": "2025-06-26T11:55:24.678121Z",
     "shell.execute_reply": "2025-06-26T11:55:24.677436Z"
    },
    "papermill": {
     "duration": 0.269936,
     "end_time": "2025-06-26T11:55:24.679284",
     "exception": false,
     "start_time": "2025-06-26T11:55:24.409348",
     "status": "completed"
    },
    "tags": []
   },
   "outputs": [],
   "source": [
    "submission = pd.DataFrame({\n",
    "    'ID': sample_submission['ID'],\n",
    "    'angle': pred\n",
    "})"
   ]
  },
  {
   "cell_type": "code",
   "execution_count": 19,
   "id": "792e891d",
   "metadata": {
    "execution": {
     "iopub.execute_input": "2025-06-26T11:55:24.689435Z",
     "iopub.status.busy": "2025-06-26T11:55:24.689231Z",
     "iopub.status.idle": "2025-06-26T11:55:24.696725Z",
     "shell.execute_reply": "2025-06-26T11:55:24.696154Z"
    },
    "papermill": {
     "duration": 0.013804,
     "end_time": "2025-06-26T11:55:24.697786",
     "exception": false,
     "start_time": "2025-06-26T11:55:24.683982",
     "status": "completed"
    },
    "tags": []
   },
   "outputs": [
    {
     "data": {
      "text/html": [
       "<div>\n",
       "<style scoped>\n",
       "    .dataframe tbody tr th:only-of-type {\n",
       "        vertical-align: middle;\n",
       "    }\n",
       "\n",
       "    .dataframe tbody tr th {\n",
       "        vertical-align: top;\n",
       "    }\n",
       "\n",
       "    .dataframe thead th {\n",
       "        text-align: right;\n",
       "    }\n",
       "</style>\n",
       "<table border=\"1\" class=\"dataframe\">\n",
       "  <thead>\n",
       "    <tr style=\"text-align: right;\">\n",
       "      <th></th>\n",
       "      <th>ID</th>\n",
       "      <th>angle</th>\n",
       "    </tr>\n",
       "  </thead>\n",
       "  <tbody>\n",
       "    <tr>\n",
       "      <th>0</th>\n",
       "      <td>0</td>\n",
       "      <td>60</td>\n",
       "    </tr>\n",
       "    <tr>\n",
       "      <th>1</th>\n",
       "      <td>1</td>\n",
       "      <td>90</td>\n",
       "    </tr>\n",
       "    <tr>\n",
       "      <th>2</th>\n",
       "      <td>2</td>\n",
       "      <td>120</td>\n",
       "    </tr>\n",
       "    <tr>\n",
       "      <th>3</th>\n",
       "      <td>3</td>\n",
       "      <td>30</td>\n",
       "    </tr>\n",
       "    <tr>\n",
       "      <th>4</th>\n",
       "      <td>4</td>\n",
       "      <td>30</td>\n",
       "    </tr>\n",
       "    <tr>\n",
       "      <th>...</th>\n",
       "      <td>...</td>\n",
       "      <td>...</td>\n",
       "    </tr>\n",
       "    <tr>\n",
       "      <th>149995</th>\n",
       "      <td>149995</td>\n",
       "      <td>90</td>\n",
       "    </tr>\n",
       "    <tr>\n",
       "      <th>149996</th>\n",
       "      <td>149996</td>\n",
       "      <td>30</td>\n",
       "    </tr>\n",
       "    <tr>\n",
       "      <th>149997</th>\n",
       "      <td>149997</td>\n",
       "      <td>60</td>\n",
       "    </tr>\n",
       "    <tr>\n",
       "      <th>149998</th>\n",
       "      <td>149998</td>\n",
       "      <td>60</td>\n",
       "    </tr>\n",
       "    <tr>\n",
       "      <th>149999</th>\n",
       "      <td>149999</td>\n",
       "      <td>-120</td>\n",
       "    </tr>\n",
       "  </tbody>\n",
       "</table>\n",
       "<p>150000 rows × 2 columns</p>\n",
       "</div>"
      ],
      "text/plain": [
       "            ID  angle\n",
       "0            0     60\n",
       "1            1     90\n",
       "2            2    120\n",
       "3            3     30\n",
       "4            4     30\n",
       "...        ...    ...\n",
       "149995  149995     90\n",
       "149996  149996     30\n",
       "149997  149997     60\n",
       "149998  149998     60\n",
       "149999  149999   -120\n",
       "\n",
       "[150000 rows x 2 columns]"
      ]
     },
     "execution_count": 19,
     "metadata": {},
     "output_type": "execute_result"
    }
   ],
   "source": [
    "submission"
   ]
  },
  {
   "cell_type": "code",
   "execution_count": 20,
   "id": "fbdc6c92",
   "metadata": {
    "execution": {
     "iopub.execute_input": "2025-06-26T11:55:24.707359Z",
     "iopub.status.busy": "2025-06-26T11:55:24.707156Z",
     "iopub.status.idle": "2025-06-26T11:55:24.812918Z",
     "shell.execute_reply": "2025-06-26T11:55:24.812474Z"
    },
    "papermill": {
     "duration": 0.111703,
     "end_time": "2025-06-26T11:55:24.813983",
     "exception": false,
     "start_time": "2025-06-26T11:55:24.702280",
     "status": "completed"
    },
    "tags": []
   },
   "outputs": [],
   "source": [
    "submission.to_csv('submission.csv',index = False)"
   ]
  }
 ],
 "metadata": {
  "kaggle": {
   "accelerator": "nvidiaTeslaT4",
   "dataSources": [
    {
     "databundleVersionId": 12192609,
     "sourceId": 101243,
     "sourceType": "competition"
    }
   ],
   "dockerImageVersionId": 31041,
   "isGpuEnabled": true,
   "isInternetEnabled": true,
   "language": "python",
   "sourceType": "notebook"
  },
  "kernelspec": {
   "display_name": "Python 3",
   "language": "python",
   "name": "python3"
  },
  "language_info": {
   "codemirror_mode": {
    "name": "ipython",
    "version": 3
   },
   "file_extension": ".py",
   "mimetype": "text/x-python",
   "name": "python",
   "nbconvert_exporter": "python",
   "pygments_lexer": "ipython3",
   "version": "3.11.11"
  },
  "papermill": {
   "default_parameters": {},
   "duration": 1581.772408,
   "end_time": "2025-06-26T11:55:28.056101",
   "environment_variables": {},
   "exception": null,
   "input_path": "__notebook__.ipynb",
   "output_path": "__notebook__.ipynb",
   "parameters": {},
   "start_time": "2025-06-26T11:29:06.283693",
   "version": "2.6.0"
  }
 },
 "nbformat": 4,
 "nbformat_minor": 5
}
